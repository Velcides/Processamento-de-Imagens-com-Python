{
 "cells": [
  {
   "cell_type": "code",
   "execution_count": null,
   "metadata": {},
   "outputs": [],
   "source": [
    "from image_processing.utils import io, plot\n",
    "from image_processing.processing import combination, transformation"
   ]
  },
  {
   "cell_type": "code",
   "execution_count": null,
   "metadata": {},
   "outputs": [],
   "source": [
    "# Passar o path das imagens e atribuir a uma variavel \n",
    "image1 = io.read_image('')\n",
    "image2 = io.read_image('')"
   ]
  },
  {
   "cell_type": "code",
   "execution_count": null,
   "metadata": {},
   "outputs": [],
   "source": [
    "# Plotando as imagens \n",
    "plot.plot_image(image1)\n",
    "plot.plot_image(image2)"
   ]
  },
  {
   "cell_type": "code",
   "execution_count": null,
   "metadata": {},
   "outputs": [],
   "source": [
    "# Fazendo a combinação\n",
    "result_image = combination.transfer_histogram(image1, image2)\n",
    "plot.plot_result(image1, image2, result_image)"
   ]
  }
 ],
 "metadata": {
  "language_info": {
   "name": "python"
  }
 },
 "nbformat": 4,
 "nbformat_minor": 2
}
